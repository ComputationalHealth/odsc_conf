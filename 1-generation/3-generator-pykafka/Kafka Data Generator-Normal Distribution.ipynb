{
 "cells": [
  {
   "cell_type": "code",
   "execution_count": 1,
   "metadata": {},
   "outputs": [
    {
     "ename": "SyntaxError",
     "evalue": "(unicode error) 'unicodeescape' codec can't decode bytes in position 2-3: truncated \\UXXXXXXXX escape (__config__.py, line 5)",
     "output_type": "error",
     "traceback": [
      "\u001b[1;36m  File \u001b[1;32m\"C:\\Users\\schulzwg\\AppData\\Local\\Continuum\\Anaconda3\\envs\\odscHealth\\lib\\site-packages\\numpy\\__config__.py\"\u001b[1;36m, line \u001b[1;32m5\u001b[0m\n\u001b[1;33m    blas_mkl_info={'libraries': ['mkl_core_dll', 'mkl_intel_lp64_dll', 'mkl_intel_thread_dll'], 'library_dirs': ['C:\\Users\\schulzwg\\AppData\\Local\\Continuum\\Anaconda3\\envs\\odscHealth\\\\Library\\\\lib'], 'define_macros': [('SCIPY_MKL_H', None), ('HAVE_CBLAS', None)], 'include_dirs': ['C:\\Users\\schulzwg\\AppData\\Local\\Continuum\\Anaconda3\\envs\\odscHealth\\\\Library\\\\include']}\u001b[0m\n\u001b[1;37m                                                                                                                ^\u001b[0m\n\u001b[1;31mSyntaxError\u001b[0m\u001b[1;31m:\u001b[0m (unicode error) 'unicodeescape' codec can't decode bytes in position 2-3: truncated \\UXXXXXXXX escape\n"
     ]
    }
   ],
   "source": [
    "import observation\n",
    "from kafka import KafkaProducer"
   ]
  },
  {
   "cell_type": "code",
   "execution_count": null,
   "metadata": {
    "collapsed": true
   },
   "outputs": [],
   "source": [
    "NEW_LINE = '\\n'\n",
    "SLEEP = 2\n",
    "NUMBER_MESSAGES = 50\n",
    "\n",
    "KAFKA_BROKERS = \"sandbox.hortonworks.com:6667\"\n",
    "KAFKA_TOPIC = \"test1\"\n",
    "\n",
    "KafkaProducer = KafkaProducer(bootstrap_servers=KAFKA_BROKERS)\n",
    "\n",
    "while 1:\n",
    "    for _ in range(NUMBER_MESSAGES):\n",
    "        obs = observation.Observation()\n",
    "\n",
    "        msh = 'MSH|^~\\&|||||{0}||ORU^R01|||2.3||||'.format(\n",
    "                    obs.msh_time.strftime(\"%Y%m%d%H%M%S\"))\n",
    "        \n",
    "        HL7_MESSAGE = msh\n",
    "\n",
    "        obr = 'OBR||||{0}||{1}||{2}||||||||||{3}|||||||{4}||||'.format(\n",
    "            obs.universal_service_id,\n",
    "            obs.req_time.strftime(\"%Y%m%d%H%M%S\"),\n",
    "            obs.obs_end_time.strftime(\"%Y%m%d%H%M%S\"),\n",
    "            obs.method,\n",
    "            obs.result_status)\n",
    "        \n",
    "        for k in obs.oru['components'].keys():\n",
    "            obx_i = 'OBX|||{0}||{1}|{2}||||||||{3}||||{4}|'.format(\n",
    "                        k,\n",
    "                        obs.oru['components'][k]['value'],\n",
    "                        obs.oru['components'][k]['unit'],\n",
    "                        obs.obx_time.strftime(\"%Y%m%d%H%M%S\"),\n",
    "                        obs.oru['method']\n",
    "                        )\n",
    "            obr = NEW_LINE.join([obr, obx_i])\n",
    "            \n",
    "        HL7_MESSAGE = NEW_LINE.join([HL7_MESSAGE, obr])\n",
    "\n",
    "        # send HL7_MESSAGE to Kafka\n",
    "        print (HL7_MESSAGE)\n",
    "        KafkaProducer.send(KAFKA_TOPIC, str.encode(HL7_MESSAGE))\n",
    "        KafkaProducer.flush()\n",
    "\n",
    "    time.sleep(SLEEP)\n"
   ]
  },
  {
   "cell_type": "code",
   "execution_count": null,
   "metadata": {
    "collapsed": true
   },
   "outputs": [],
   "source": []
  }
 ],
 "metadata": {
  "kernelspec": {
   "display_name": "Python 3",
   "language": "python",
   "name": "python3"
  },
  "language_info": {
   "codemirror_mode": {
    "name": "ipython",
    "version": 3
   },
   "file_extension": ".py",
   "mimetype": "text/x-python",
   "name": "python",
   "nbconvert_exporter": "python",
   "pygments_lexer": "ipython3",
   "version": "3.6.1"
  }
 },
 "nbformat": 4,
 "nbformat_minor": 2
}
