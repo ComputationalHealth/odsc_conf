{
 "cells": [
  {
   "cell_type": "code",
   "execution_count": 1,
   "metadata": {
    "collapsed": true
   },
   "outputs": [],
   "source": [
    "import observation"
   ]
  },
  {
   "cell_type": "code",
   "execution_count": 2,
   "metadata": {
    "collapsed": true
   },
   "outputs": [],
   "source": [
    "NEW_LINE = '\\n'\n",
    "NUMBER_MESSAGES = 10000\n",
    "\n",
    "with open('generated-data.csv', 'w') as output_file:\n",
    "    for _ in range(NUMBER_MESSAGES):\n",
    "        obs = observation.Observation()\n",
    "\n",
    "        for k in obs.oru['components'].keys():\n",
    "            hl7 = []\n",
    "            hl7.append(str(obs.msh_time.strftime(\"%Y%m%d%H%M%S\")))\n",
    "            hl7.append(str(obs.req_time.strftime(\"%Y%m%d%H%M%S\")))\n",
    "            hl7.append(str(obs.obs_end_time.strftime(\"%Y%m%d%H%M%S\")))\n",
    "            hl7.append(str(k))\n",
    "            hl7.append(str(obs.oru['components'][k]['value']))\n",
    "            hl7.append(str(obs.oru['components'][k]['unit']))\n",
    "            hl7.append(str(obs.obx_time.strftime(\"%Y%m%d%H%M%S\")))\n",
    "            hl7.append(str(obs.oru['method']))\n",
    "\n",
    "            output_file.write(','.join(hl7) + '\\n')"
   ]
  },
  {
   "cell_type": "code",
   "execution_count": null,
   "metadata": {
    "collapsed": true
   },
   "outputs": [],
   "source": []
  }
 ],
 "metadata": {
  "kernelspec": {
   "display_name": "Python 3",
   "language": "python",
   "name": "python3"
  },
  "language_info": {
   "codemirror_mode": {
    "name": "ipython",
    "version": 3
   },
   "file_extension": ".py",
   "mimetype": "text/x-python",
   "name": "python",
   "nbconvert_exporter": "python",
   "pygments_lexer": "ipython3",
   "version": "3.6.1"
  }
 },
 "nbformat": 4,
 "nbformat_minor": 2
}
