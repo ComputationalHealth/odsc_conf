{
 "cells": [
  {
   "cell_type": "code",
   "execution_count": null,
   "metadata": {
    "collapsed": true
   },
   "outputs": [],
   "source": [
    "import os\n",
    "import time\n",
    "import csv\n",
    "import observation"
   ]
  },
  {
   "cell_type": "code",
   "execution_count": null,
   "metadata": {
    "collapsed": false
   },
   "outputs": [],
   "source": [
    "NEW_LINE = '\\n'\n",
    "NUMBER_MESSAGES = 10\n",
    "\n",
    "data = {}\n",
    "data['messages'] = []\n",
    "\n",
    "\n",
    "keys = hl7.keys()\n",
    "\n",
    "with open('component.csv', 'wb') as output_file:\n",
    "    \n",
    "    dict_writer = csv.DictWriter(output_file, keys)\n",
    "    dict_writer.writeheader()\n",
    "    \n",
    "    for _ in range(NUMBER_MESSAGES):\n",
    "\n",
    "        obs = observation.Observation()\n",
    "\n",
    "        for k in obs.oru['components'].keys():\n",
    "            hl7 = {}\n",
    "            hl7['msg_ts'] = obs.msh_time.strftime(\"%Y%m%d%H%M%S\")\n",
    "            hl7['order_ts'] = obs.req_time.strftime(\"%Y%m%d%H%M%S\")\n",
    "            hl7['coll_ts'] = obs.obs_end_time.strftime(\"%Y%m%d%H%M%S\")\n",
    "            hl7['component'] = k\n",
    "            hl7['value'] = obs.oru['components'][k]['value']\n",
    "            hl7['unit'] = obs.oru['components'][k]['unit']\n",
    "            hl7['result_ts'] = obs.obx_time.strftime(\"%Y%m%d%H%M%S\")\n",
    "            hl7['method'] = obs.oru['method']\n",
    "\n",
    "            data['messages'].append(hl7)\n",
    "        \n",
    "    dict_writer.writerows(data['messages'])\n",
    "    output_file.close()\n",
    "\n"
   ]
  },
  {
   "cell_type": "code",
   "execution_count": null,
   "metadata": {
    "collapsed": true
   },
   "outputs": [],
   "source": []
  }
 ],
 "metadata": {
  "kernelspec": {
   "display_name": "Python 2",
   "language": "python",
   "name": "python2"
  },
  "language_info": {
   "codemirror_mode": {
    "name": "ipython",
    "version": 2
   },
   "file_extension": ".py",
   "mimetype": "text/x-python",
   "name": "python",
   "nbconvert_exporter": "python",
   "pygments_lexer": "ipython2",
   "version": "2.7.13"
  }
 },
 "nbformat": 4,
 "nbformat_minor": 2
}
